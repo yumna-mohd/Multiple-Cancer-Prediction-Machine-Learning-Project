{
 "cells": [
  {
   "cell_type": "markdown",
   "id": "dfd8a280-d7e9-476b-a1cb-01c0946a1a3d",
   "metadata": {},
   "source": [
    "**Importing Libraries**"
   ]
  },
  {
   "cell_type": "code",
   "execution_count": 1,
   "id": "726800aa-878b-4ea7-8c37-2f260c59d8f5",
   "metadata": {},
   "outputs": [],
   "source": [
    "# Importing the libraries\n",
    "#or data manipulation, analysis, and handling. \n",
    "import numpy as np\n",
    "import pandas as pd\n",
    "\n",
    "#for machine learning and model evaluation\n",
    "from sklearn.model_selection import train_test_split\n",
    "from sklearn import svm\n",
    "from sklearn.metrics import accuracy_score, precision_score, recall_score, f1_score, confusion_matrix\n",
    "\n",
    "#for data visualization\n",
    "import matplotlib as plt\n",
    "import seaborn as sns"
   ]
  },
  {
   "cell_type": "markdown",
   "id": "34891496-3c7a-4640-a38d-c029405e48e5",
   "metadata": {},
   "source": [
    "**Data Collection and Analysis**"
   ]
  },
  {
   "cell_type": "code",
   "execution_count": 2,
   "id": "5770622d-9c75-4ce7-81ee-594824ad7458",
   "metadata": {},
   "outputs": [],
   "source": [
    "# Loading the data from the xlsx file to a Pandas DataFrame\n",
    "prostate_cancer_data = pd.read_excel('Prostate_Cancer.xlsx')"
   ]
  },
  {
   "cell_type": "code",
   "execution_count": 3,
   "id": "15739ea4-111b-41cb-b2d2-8ef73a9c7c67",
   "metadata": {},
   "outputs": [
    {
     "name": "stdout",
     "output_type": "stream",
     "text": [
      "  diagnosis_result  radius  texture  perimeter  area  smoothness  compactness  \\\n",
      "0                M      23       12        151   954       0.143        0.278   \n",
      "1                B       9       13        133  1326       0.143        0.079   \n",
      "2                M      21       27        130  1203       0.125        0.160   \n",
      "3                M      14       16         78   386       0.070        0.284   \n",
      "4                M       9       19        135  1297       0.141        0.133   \n",
      "\n",
      "   symmetry  fractal_dimension  \n",
      "0     0.242              0.079  \n",
      "1     0.181              0.057  \n",
      "2     0.207              0.060  \n",
      "3     0.260              0.097  \n",
      "4     0.181              0.059  \n"
     ]
    }
   ],
   "source": [
    "# Displaying the first few rows\n",
    "print(prostate_cancer_data.head())"
   ]
  },
  {
   "cell_type": "code",
   "execution_count": 4,
   "id": "dfc64d82-1550-4a0f-b58a-af350cfff377",
   "metadata": {},
   "outputs": [
    {
     "name": "stdout",
     "output_type": "stream",
     "text": [
      "(100, 9)\n"
     ]
    }
   ],
   "source": [
    "#displaying the number of row and columns in the dataset\n",
    "print(prostate_cancer_data.shape)"
   ]
  },
  {
   "cell_type": "code",
   "execution_count": 5,
   "id": "bbe81a5c-e924-4353-ae99-95ba3eb73261",
   "metadata": {},
   "outputs": [
    {
     "name": "stdout",
     "output_type": "stream",
     "text": [
      "<class 'pandas.core.frame.DataFrame'>\n",
      "RangeIndex: 100 entries, 0 to 99\n",
      "Data columns (total 9 columns):\n",
      " #   Column             Non-Null Count  Dtype  \n",
      "---  ------             --------------  -----  \n",
      " 0   diagnosis_result   100 non-null    object \n",
      " 1   radius             100 non-null    int64  \n",
      " 2   texture            100 non-null    int64  \n",
      " 3   perimeter          100 non-null    int64  \n",
      " 4   area               100 non-null    int64  \n",
      " 5   smoothness         100 non-null    float64\n",
      " 6   compactness        100 non-null    float64\n",
      " 7   symmetry           100 non-null    float64\n",
      " 8   fractal_dimension  100 non-null    float64\n",
      "dtypes: float64(4), int64(4), object(1)\n",
      "memory usage: 7.2+ KB\n",
      "None\n"
     ]
    }
   ],
   "source": [
    "# Displaying information about the dataset\n",
    "print(prostate_cancer_data.info())"
   ]
  },
  {
   "cell_type": "code",
   "execution_count": 6,
   "id": "c40d5fcf-959a-4285-817b-4429007d4c66",
   "metadata": {},
   "outputs": [
    {
     "name": "stdout",
     "output_type": "stream",
     "text": [
      "diagnosis_result     0\n",
      "radius               0\n",
      "texture              0\n",
      "perimeter            0\n",
      "area                 0\n",
      "smoothness           0\n",
      "compactness          0\n",
      "symmetry             0\n",
      "fractal_dimension    0\n",
      "dtype: int64\n"
     ]
    }
   ],
   "source": [
    "# Displaying the number of missing values in each column\n",
    "print(prostate_cancer_data.isnull().sum())"
   ]
  },
  {
   "cell_type": "code",
   "execution_count": 7,
   "id": "8abde5f6-ee82-40e7-ac42-79863ea82b84",
   "metadata": {},
   "outputs": [
    {
     "data": {
      "text/html": [
       "<div>\n",
       "<style scoped>\n",
       "    .dataframe tbody tr th:only-of-type {\n",
       "        vertical-align: middle;\n",
       "    }\n",
       "\n",
       "    .dataframe tbody tr th {\n",
       "        vertical-align: top;\n",
       "    }\n",
       "\n",
       "    .dataframe thead th {\n",
       "        text-align: right;\n",
       "    }\n",
       "</style>\n",
       "<table border=\"1\" class=\"dataframe\">\n",
       "  <thead>\n",
       "    <tr style=\"text-align: right;\">\n",
       "      <th></th>\n",
       "      <th>radius</th>\n",
       "      <th>texture</th>\n",
       "      <th>perimeter</th>\n",
       "      <th>area</th>\n",
       "      <th>smoothness</th>\n",
       "      <th>compactness</th>\n",
       "      <th>symmetry</th>\n",
       "      <th>fractal_dimension</th>\n",
       "    </tr>\n",
       "  </thead>\n",
       "  <tbody>\n",
       "    <tr>\n",
       "      <th>count</th>\n",
       "      <td>100.000000</td>\n",
       "      <td>100.000000</td>\n",
       "      <td>100.000000</td>\n",
       "      <td>100.000000</td>\n",
       "      <td>100.000000</td>\n",
       "      <td>100.000000</td>\n",
       "      <td>100.000000</td>\n",
       "      <td>100.000000</td>\n",
       "    </tr>\n",
       "    <tr>\n",
       "      <th>mean</th>\n",
       "      <td>16.850000</td>\n",
       "      <td>18.230000</td>\n",
       "      <td>96.780000</td>\n",
       "      <td>702.880000</td>\n",
       "      <td>0.102730</td>\n",
       "      <td>0.126700</td>\n",
       "      <td>0.193170</td>\n",
       "      <td>0.064690</td>\n",
       "    </tr>\n",
       "    <tr>\n",
       "      <th>std</th>\n",
       "      <td>4.879094</td>\n",
       "      <td>5.192954</td>\n",
       "      <td>23.676089</td>\n",
       "      <td>319.710895</td>\n",
       "      <td>0.014642</td>\n",
       "      <td>0.061144</td>\n",
       "      <td>0.030785</td>\n",
       "      <td>0.008151</td>\n",
       "    </tr>\n",
       "    <tr>\n",
       "      <th>min</th>\n",
       "      <td>9.000000</td>\n",
       "      <td>11.000000</td>\n",
       "      <td>52.000000</td>\n",
       "      <td>202.000000</td>\n",
       "      <td>0.070000</td>\n",
       "      <td>0.038000</td>\n",
       "      <td>0.135000</td>\n",
       "      <td>0.053000</td>\n",
       "    </tr>\n",
       "    <tr>\n",
       "      <th>25%</th>\n",
       "      <td>12.000000</td>\n",
       "      <td>14.000000</td>\n",
       "      <td>82.500000</td>\n",
       "      <td>476.750000</td>\n",
       "      <td>0.093500</td>\n",
       "      <td>0.080500</td>\n",
       "      <td>0.172000</td>\n",
       "      <td>0.059000</td>\n",
       "    </tr>\n",
       "    <tr>\n",
       "      <th>50%</th>\n",
       "      <td>17.000000</td>\n",
       "      <td>17.500000</td>\n",
       "      <td>94.000000</td>\n",
       "      <td>644.000000</td>\n",
       "      <td>0.102000</td>\n",
       "      <td>0.118500</td>\n",
       "      <td>0.190000</td>\n",
       "      <td>0.063000</td>\n",
       "    </tr>\n",
       "    <tr>\n",
       "      <th>75%</th>\n",
       "      <td>21.000000</td>\n",
       "      <td>22.250000</td>\n",
       "      <td>114.250000</td>\n",
       "      <td>917.000000</td>\n",
       "      <td>0.112000</td>\n",
       "      <td>0.157000</td>\n",
       "      <td>0.209000</td>\n",
       "      <td>0.069000</td>\n",
       "    </tr>\n",
       "    <tr>\n",
       "      <th>max</th>\n",
       "      <td>25.000000</td>\n",
       "      <td>27.000000</td>\n",
       "      <td>172.000000</td>\n",
       "      <td>1878.000000</td>\n",
       "      <td>0.143000</td>\n",
       "      <td>0.345000</td>\n",
       "      <td>0.304000</td>\n",
       "      <td>0.097000</td>\n",
       "    </tr>\n",
       "  </tbody>\n",
       "</table>\n",
       "</div>"
      ],
      "text/plain": [
       "           radius     texture   perimeter         area  smoothness  \\\n",
       "count  100.000000  100.000000  100.000000   100.000000  100.000000   \n",
       "mean    16.850000   18.230000   96.780000   702.880000    0.102730   \n",
       "std      4.879094    5.192954   23.676089   319.710895    0.014642   \n",
       "min      9.000000   11.000000   52.000000   202.000000    0.070000   \n",
       "25%     12.000000   14.000000   82.500000   476.750000    0.093500   \n",
       "50%     17.000000   17.500000   94.000000   644.000000    0.102000   \n",
       "75%     21.000000   22.250000  114.250000   917.000000    0.112000   \n",
       "max     25.000000   27.000000  172.000000  1878.000000    0.143000   \n",
       "\n",
       "       compactness    symmetry  fractal_dimension  \n",
       "count   100.000000  100.000000         100.000000  \n",
       "mean      0.126700    0.193170           0.064690  \n",
       "std       0.061144    0.030785           0.008151  \n",
       "min       0.038000    0.135000           0.053000  \n",
       "25%       0.080500    0.172000           0.059000  \n",
       "50%       0.118500    0.190000           0.063000  \n",
       "75%       0.157000    0.209000           0.069000  \n",
       "max       0.345000    0.304000           0.097000  "
      ]
     },
     "execution_count": 7,
     "metadata": {},
     "output_type": "execute_result"
    }
   ],
   "source": [
    "# Displaying some statistical measures about the data\n",
    "prostate_cancer_data.describe()"
   ]
  },
  {
   "cell_type": "markdown",
   "id": "87247dc1-307c-49f7-aae3-04de08b8c4fd",
   "metadata": {},
   "source": [
    "**Data Visualization**"
   ]
  },
  {
   "cell_type": "code",
   "execution_count": 8,
   "id": "44663f58-3a6b-45ed-a1fd-640879c48d50",
   "metadata": {
    "tags": []
   },
   "outputs": [
    {
     "data": {
      "text/plain": [
       "<Axes: >"
      ]
     },
     "execution_count": 8,
     "metadata": {},
     "output_type": "execute_result"
    },
    {
     "data": {
      "image/png": "[encoded data removed]",
      "text/plain": [
       "<Figure size 640x480 with 1 Axes>"
      ]
     },
     "metadata": {},
     "output_type": "display_data"
    }
   ],
   "source": [
    "#Line plot using matplotlib\n",
    "prostate_cancer_data.plot()"
   ]
  },
  {
   "cell_type": "code",
   "execution_count": 9,
   "id": "137c1a98-3ef8-479d-9710-f403e436942a",
   "metadata": {
    "tags": []
   },
   "outputs": [
    {
     "data": {
      "text/plain": [
       "<Axes: >"
      ]
     },
     "execution_count": 9,
     "metadata": {},
     "output_type": "execute_result"
    },
    {
     "data": {
      "image/png": "[encoded data removed]",
      "text/plain": [
       "<Figure size 640x480 with 1 Axes>"
      ]
     },
     "metadata": {},
     "output_type": "display_data"
    }
   ],
   "source": [
    "#using seaborn library\n",
    "#scatter plot\n",
    "sns.scatterplot(prostate_cancer_data)"
   ]
  },
  {
   "cell_type": "code",
   "execution_count": 10,
   "id": "f5bcdd1b-eb60-4b84-b523-81ba8a39e7c9",
   "metadata": {},
   "outputs": [
    {
     "data": {
      "text/plain": [
       "diagnosis_result\n",
       "M    62\n",
       "B    38\n",
       "Name: count, dtype: int64"
      ]
     },
     "execution_count": 10,
     "metadata": {},
     "output_type": "execute_result"
    }
   ],
   "source": [
    "# Displaying the distribution of the target variable\n",
    "prostate_cancer_data['diagnosis_result'].value_counts()\n"
   ]
  },
  {
   "cell_type": "code",
   "execution_count": 11,
   "id": "11645d33-3b10-454f-bb5d-e6c801673166",
   "metadata": {},
   "outputs": [
    {
     "data": {
      "text/html": [
       "<div>\n",
       "<style scoped>\n",
       "    .dataframe tbody tr th:only-of-type {\n",
       "        vertical-align: middle;\n",
       "    }\n",
       "\n",
       "    .dataframe tbody tr th {\n",
       "        vertical-align: top;\n",
       "    }\n",
       "\n",
       "    .dataframe thead th {\n",
       "        text-align: right;\n",
       "    }\n",
       "</style>\n",
       "<table border=\"1\" class=\"dataframe\">\n",
       "  <thead>\n",
       "    <tr style=\"text-align: right;\">\n",
       "      <th></th>\n",
       "      <th>radius</th>\n",
       "      <th>texture</th>\n",
       "      <th>perimeter</th>\n",
       "      <th>area</th>\n",
       "      <th>smoothness</th>\n",
       "      <th>compactness</th>\n",
       "      <th>symmetry</th>\n",
       "      <th>fractal_dimension</th>\n",
       "    </tr>\n",
       "    <tr>\n",
       "      <th>diagnosis_result</th>\n",
       "      <th></th>\n",
       "      <th></th>\n",
       "      <th></th>\n",
       "      <th></th>\n",
       "      <th></th>\n",
       "      <th></th>\n",
       "      <th></th>\n",
       "      <th></th>\n",
       "    </tr>\n",
       "  </thead>\n",
       "  <tbody>\n",
       "    <tr>\n",
       "      <th>B</th>\n",
       "      <td>17.947368</td>\n",
       "      <td>17.763158</td>\n",
       "      <td>78.500000</td>\n",
       "      <td>474.342105</td>\n",
       "      <td>0.099053</td>\n",
       "      <td>0.086895</td>\n",
       "      <td>0.184053</td>\n",
       "      <td>0.064605</td>\n",
       "    </tr>\n",
       "    <tr>\n",
       "      <th>M</th>\n",
       "      <td>16.177419</td>\n",
       "      <td>18.516129</td>\n",
       "      <td>107.983871</td>\n",
       "      <td>842.951613</td>\n",
       "      <td>0.104984</td>\n",
       "      <td>0.151097</td>\n",
       "      <td>0.198758</td>\n",
       "      <td>0.064742</td>\n",
       "    </tr>\n",
       "  </tbody>\n",
       "</table>\n",
       "</div>"
      ],
      "text/plain": [
       "                     radius    texture   perimeter        area  smoothness  \\\n",
       "diagnosis_result                                                             \n",
       "B                 17.947368  17.763158   78.500000  474.342105    0.099053   \n",
       "M                 16.177419  18.516129  107.983871  842.951613    0.104984   \n",
       "\n",
       "                  compactness  symmetry  fractal_dimension  \n",
       "diagnosis_result                                            \n",
       "B                    0.086895  0.184053           0.064605  \n",
       "M                    0.151097  0.198758           0.064742  "
      ]
     },
     "execution_count": 11,
     "metadata": {},
     "output_type": "execute_result"
    }
   ],
   "source": [
    "# Grouping the data based on the target variable\n",
    "prostate_cancer_data.groupby('diagnosis_result').mean()\n"
   ]
  },
  {
   "cell_type": "code",
   "execution_count": 12,
   "id": "72423d34-af1a-4a09-a385-ab12b6e91b9a",
   "metadata": {},
   "outputs": [],
   "source": [
    "# Data Pre-Processing\n",
    "# Separating the features and target\n",
    "X_ProstateCancer = prostate_cancer_data.drop(columns=['diagnosis_result'], axis=1)\n",
    "Y_ProstateCancer = prostate_cancer_data['diagnosis_result']"
   ]
  },
  {
   "cell_type": "code",
   "execution_count": 13,
   "id": "8bc8c2e1-cfa6-47a8-9e97-6719bd49b7bf",
   "metadata": {},
   "outputs": [
    {
     "name": "stdout",
     "output_type": "stream",
     "text": [
      "    radius  texture  perimeter  area  smoothness  compactness  symmetry  \\\n",
      "0       23       12        151   954       0.143        0.278     0.242   \n",
      "1        9       13        133  1326       0.143        0.079     0.181   \n",
      "2       21       27        130  1203       0.125        0.160     0.207   \n",
      "3       14       16         78   386       0.070        0.284     0.260   \n",
      "4        9       19        135  1297       0.141        0.133     0.181   \n",
      "..     ...      ...        ...   ...         ...          ...       ...   \n",
      "95      23       16        132  1264       0.091        0.131     0.210   \n",
      "96      22       14         78   451       0.105        0.071     0.190   \n",
      "97      19       27         62   295       0.102        0.053     0.135   \n",
      "98      21       24         74   413       0.090        0.075     0.162   \n",
      "99      16       27         94   643       0.098        0.114     0.188   \n",
      "\n",
      "    fractal_dimension  \n",
      "0               0.079  \n",
      "1               0.057  \n",
      "2               0.060  \n",
      "3               0.097  \n",
      "4               0.059  \n",
      "..                ...  \n",
      "95              0.056  \n",
      "96              0.066  \n",
      "97              0.069  \n",
      "98              0.066  \n",
      "99              0.064  \n",
      "\n",
      "[100 rows x 8 columns]\n"
     ]
    }
   ],
   "source": [
    "# Displaying the features\n",
    "print(X_ProstateCancer)"
   ]
  },
  {
   "cell_type": "code",
   "execution_count": 14,
   "id": "8e6552c5-4d0a-437b-bea8-879c142e62ea",
   "metadata": {},
   "outputs": [
    {
     "name": "stdout",
     "output_type": "stream",
     "text": [
      "0     M\n",
      "1     B\n",
      "2     M\n",
      "3     M\n",
      "4     M\n",
      "     ..\n",
      "95    M\n",
      "96    B\n",
      "97    B\n",
      "98    B\n",
      "99    M\n",
      "Name: diagnosis_result, Length: 100, dtype: object\n"
     ]
    }
   ],
   "source": [
    "# Displaying the target\n",
    "print(Y_ProstateCancer)"
   ]
  },
  {
   "cell_type": "markdown",
   "id": "f69bd2b2-6fdd-4159-8bc4-706415f3a54b",
   "metadata": {},
   "source": [
    "**Data Splitting**"
   ]
  },
  {
   "cell_type": "code",
   "execution_count": 15,
   "id": "4304fc5f-d70d-4e43-87f0-1376fda36833",
   "metadata": {},
   "outputs": [],
   "source": [
    "# Splitting the data into training and test sets\n",
    "X_train_ProstateCancer, X_test_ProstateCancer, Y_train_ProstateCancer, Y_test_ProstateCancer = train_test_split(X_ProstateCancer, Y_ProstateCancer, test_size=0.2, random_state=2)\n"
   ]
  },
  {
   "cell_type": "code",
   "execution_count": 16,
   "id": "f4ae7010-25e9-4c12-bfa0-501bdb893b10",
   "metadata": {},
   "outputs": [
    {
     "name": "stdout",
     "output_type": "stream",
     "text": [
      "(100, 8) (80, 8) (20, 8)\n"
     ]
    }
   ],
   "source": [
    "# Displaying the shapes of the training and test sets\n",
    "print(X_ProstateCancer.shape, X_train_ProstateCancer.shape, X_test_ProstateCancer.shape)"
   ]
  },
  {
   "cell_type": "markdown",
   "id": "8712e88c-323f-4961-8dc8-74cde6b5d93b",
   "metadata": {},
   "source": [
    "**Model Training**"
   ]
  },
  {
   "cell_type": "code",
   "execution_count": 17,
   "id": "9eb58c21-7cd6-43af-b0a6-c16c49f2f652",
   "metadata": {},
   "outputs": [],
   "source": [
    "# Model Training\n",
    "# Support Vector Machine Model\n",
    "prostate_cancer_model = svm.SVC(kernel='linear')"
   ]
  },
  {
   "cell_type": "code",
   "execution_count": 18,
   "id": "2bcfe334-95dc-4267-8cf0-4997f008b774",
   "metadata": {},
   "outputs": [
    {
     "data": {
      "text/html": [
       "<style>#sk-container-id-1 {color: black;}#sk-container-id-1 pre{padding: 0;}#sk-container-id-1 div.sk-toggleable {background-color: white;}#sk-container-id-1 label.sk-toggleable__label {cursor: pointer;display: block;width: 100%;margin-bottom: 0;padding: 0.3em;box-sizing: border-box;text-align: center;}#sk-container-id-1 label.sk-toggleable__label-arrow:before {content: \"▸\";float: left;margin-right: 0.25em;color: #696969;}#sk-container-id-1 label.sk-toggleable__label-arrow:hover:before {color: black;}#sk-container-id-1 div.sk-estimator:hover label.sk-toggleable__label-arrow:before {color: black;}#sk-container-id-1 div.sk-toggleable__content {max-height: 0;max-width: 0;overflow: hidden;text-align: left;background-color: #f0f8ff;}#sk-container-id-1 div.sk-toggleable__content pre {margin: 0.2em;color: black;border-radius: 0.25em;background-color: #f0f8ff;}#sk-container-id-1 input.sk-toggleable__control:checked~div.sk-toggleable__content {max-height: 200px;max-width: 100%;overflow: auto;}#sk-container-id-1 input.sk-toggleable__control:checked~label.sk-toggleable__label-arrow:before {content: \"▾\";}#sk-container-id-1 div.sk-estimator input.sk-toggleable__control:checked~label.sk-toggleable__label {background-color: #d4ebff;}#sk-container-id-1 div.sk-label input.sk-toggleable__control:checked~label.sk-toggleable__label {background-color: #d4ebff;}#sk-container-id-1 input.sk-hidden--visually {border: 0;clip: rect(1px 1px 1px 1px);clip: rect(1px, 1px, 1px, 1px);height: 1px;margin: -1px;overflow: hidden;padding: 0;position: absolute;width: 1px;}#sk-container-id-1 div.sk-estimator {font-family: monospace;background-color: #f0f8ff;border: 1px dotted black;border-radius: 0.25em;box-sizing: border-box;margin-bottom: 0.5em;}#sk-container-id-1 div.sk-estimator:hover {background-color: #d4ebff;}#sk-container-id-1 div.sk-parallel-item::after {content: \"\";width: 100%;border-bottom: 1px solid gray;flex-grow: 1;}#sk-container-id-1 div.sk-label:hover label.sk-toggleable__label {background-color: #d4ebff;}#sk-container-id-1 div.sk-serial::before {content: \"\";position: absolute;border-left: 1px solid gray;box-sizing: border-box;top: 0;bottom: 0;left: 50%;z-index: 0;}#sk-container-id-1 div.sk-serial {display: flex;flex-direction: column;align-items: center;background-color: white;padding-right: 0.2em;padding-left: 0.2em;position: relative;}#sk-container-id-1 div.sk-item {position: relative;z-index: 1;}#sk-container-id-1 div.sk-parallel {display: flex;align-items: stretch;justify-content: center;background-color: white;position: relative;}#sk-container-id-1 div.sk-item::before, #sk-container-id-1 div.sk-parallel-item::before {content: \"\";position: absolute;border-left: 1px solid gray;box-sizing: border-box;top: 0;bottom: 0;left: 50%;z-index: -1;}#sk-container-id-1 div.sk-parallel-item {display: flex;flex-direction: column;z-index: 1;position: relative;background-color: white;}#sk-container-id-1 div.sk-parallel-item:first-child::after {align-self: flex-end;width: 50%;}#sk-container-id-1 div.sk-parallel-item:last-child::after {align-self: flex-start;width: 50%;}#sk-container-id-1 div.sk-parallel-item:only-child::after {width: 0;}#sk-container-id-1 div.sk-dashed-wrapped {border: 1px dashed gray;margin: 0 0.4em 0.5em 0.4em;box-sizing: border-box;padding-bottom: 0.4em;background-color: white;}#sk-container-id-1 div.sk-label label {font-family: monospace;font-weight: bold;display: inline-block;line-height: 1.2em;}#sk-container-id-1 div.sk-label-container {text-align: center;}#sk-container-id-1 div.sk-container {/* jupyter's `normalize.less` sets `[hidden] { display: none; }` but bootstrap.min.css set `[hidden] { display: none !important; }` so we also need the `!important` here to be able to override the default hidden behavior on the sphinx rendered scikit-learn.org. See: https://github.com/scikit-learn/scikit-learn/issues/21755 */display: inline-block !important;position: relative;}#sk-container-id-1 div.sk-text-repr-fallback {display: none;}</style><div id=\"sk-container-id-1\" class=\"sk-top-container\"><div class=\"sk-text-repr-fallback\"><pre>SVC(kernel=&#x27;linear&#x27;)</pre><b>In a Jupyter environment, please rerun this cell to show the HTML representation or trust the notebook. <br />On GitHub, the HTML representation is unable to render, please try loading this page with nbviewer.org.</b></div><div class=\"sk-container\" hidden><div class=\"sk-item\"><div class=\"sk-estimator sk-toggleable\"><input class=\"sk-toggleable__control sk-hidden--visually\" id=\"sk-estimator-id-1\" type=\"checkbox\" checked><label for=\"sk-estimator-id-1\" class=\"sk-toggleable__label sk-toggleable__label-arrow\">SVC</label><div class=\"sk-toggleable__content\"><pre>SVC(kernel=&#x27;linear&#x27;)</pre></div></div></div></div></div>"
      ],
      "text/plain": [
       "SVC(kernel='linear')"
      ]
     },
     "execution_count": 18,
     "metadata": {},
     "output_type": "execute_result"
    }
   ],
   "source": [
    "# Training the SVM model with training data\n",
    "prostate_cancer_model.fit(X_train_ProstateCancer, Y_train_ProstateCancer)"
   ]
  },
  {
   "cell_type": "markdown",
   "id": "f4184b36-7a28-436e-9f9c-86c82807343b",
   "metadata": {
    "tags": []
   },
   "source": [
    "**Model Evaluation**"
   ]
  },
  {
   "cell_type": "code",
   "execution_count": 19,
   "id": "39dc1856-0592-4f8c-910b-384d14976172",
   "metadata": {},
   "outputs": [
    {
     "name": "stdout",
     "output_type": "stream",
     "text": [
      "Accuracy score on training data: 0.85\n"
     ]
    }
   ],
   "source": [
    "# Model Evaluation\n",
    "# Accuracy Score on training data\n",
    "X_train_prediction_ProstateCancer = prostate_cancer_model.predict(X_train_ProstateCancer)\n",
    "training_data_accuracy_ProstateCancer = accuracy_score(Y_train_ProstateCancer, X_train_prediction_ProstateCancer)\n",
    "print('Accuracy score on training data:', training_data_accuracy_ProstateCancer)"
   ]
  },
  {
   "cell_type": "code",
   "execution_count": 20,
   "id": "d08e5689-ed68-479f-b0fb-5128bf192c0d",
   "metadata": {},
   "outputs": [
    {
     "name": "stdout",
     "output_type": "stream",
     "text": [
      "Accuracy score on test data: 0.9\n"
     ]
    }
   ],
   "source": [
    "# Accuracy score on test data\n",
    "X_test_prediction_ProstateCancer = prostate_cancer_model.predict(X_test_ProstateCancer)\n",
    "test_data_accuracy_ProstateCancer = accuracy_score(Y_test_ProstateCancer, X_test_prediction_ProstateCancer)\n",
    "print('Accuracy score on test data:', test_data_accuracy_ProstateCancer)"
   ]
  },
  {
   "cell_type": "code",
   "execution_count": 21,
   "id": "fc1ecadf-46fa-4866-93a6-3e2005cf4207",
   "metadata": {
    "tags": []
   },
   "outputs": [
    {
     "name": "stdout",
     "output_type": "stream",
     "text": [
      "Precision on test data: 0.8\n",
      "Recall on test data: 0.8\n",
      "F1 score on test data: 0.8000000000000002\n",
      "Confusion Matrix on test data:\n",
      " [[ 4  1]\n",
      " [ 1 14]]\n"
     ]
    }
   ],
   "source": [
    "# Precision on test data\n",
    "precision = precision_score(Y_test_ProstateCancer, X_test_prediction_ProstateCancer, pos_label='B')\n",
    "print('Precision on test data:', precision)\n",
    "\n",
    "# Recall on test data\n",
    "recall = recall_score(Y_test_ProstateCancer, X_test_prediction_ProstateCancer, pos_label='B')\n",
    "print('Recall on test data:', recall)\n",
    "\n",
    "# F1-score on test data\n",
    "f1 = f1_score(Y_test_ProstateCancer, X_test_prediction_ProstateCancer, pos_label='B')\n",
    "print('F1 score on test data:', f1)\n",
    "\n",
    "# Confusion Matrix on test data\n",
    "conf_matrix = confusion_matrix(Y_test_ProstateCancer, X_test_prediction_ProstateCancer)\n",
    "print('Confusion Matrix on test data:\\n', conf_matrix)"
   ]
  },
  {
   "cell_type": "markdown",
   "id": "b8b5dab5-4184-42c0-a1e1-c7b0d3d4c132",
   "metadata": {},
   "source": [
    "**Building a Predictive System**"
   ]
  },
  {
   "cell_type": "code",
   "execution_count": 22,
   "id": "6000f846-593d-4150-b58a-5f495f76606c",
   "metadata": {},
   "outputs": [
    {
     "name": "stdout",
     "output_type": "stream",
     "text": [
      "['B']\n",
      "The Prostate cancer is benign.\n"
     ]
    },
    {
     "name": "stderr",
     "output_type": "stream",
     "text": [
      "C:\\Users\\taiga\\anaconda3\\envs\\MachineLearning\\Lib\\site-packages\\sklearn\\base.py:465: UserWarning: X does not have valid feature names, but SVC was fitted with feature names\n",
      "  warnings.warn(\n"
     ]
    }
   ],
   "source": [
    "\n",
    "# Building a Predictive System\n",
    "# Example input data\n",
    "input_data_ProstateCancer = np.array([17,11,87,566,0.098,0.081,0.189,0.058])\n",
    "\n",
    "\n",
    "# Reshape the input data\n",
    "input_data_reshaped_ProstateCancer = input_data_ProstateCancer.reshape(1, -1)\n",
    "\n",
    "# Make a prediction\n",
    "prediction_ProstateCancer = prostate_cancer_model.predict(input_data_reshaped_ProstateCancer)\n",
    "print(prediction_ProstateCancer)\n",
    "\n",
    "# Interpret the prediction\n",
    "if prediction_ProstateCancer[0] == 'M':\n",
    "    print(\"The Prostate cancer is malignant.\")\n",
    "else:\n",
    "    print(\"The Prostate cancer is benign.\")"
   ]
  },
  {
   "cell_type": "markdown",
   "id": "596a960e-3a8e-4c2b-8c0f-e03ce124d10d",
   "metadata": {},
   "source": [
    "**Saving the model**"
   ]
  },
  {
   "cell_type": "code",
   "execution_count": 23,
   "id": "9221f13b-df82-4f3c-8285-59492d158736",
   "metadata": {},
   "outputs": [],
   "source": [
    "import pickle\n",
    "filename = 'prostate_cancer_model.sav'\n",
    "pickle.dump(prostate_cancer_model, open(filename, 'wb'))\n",
    "\n",
    "# loading the saved model\n",
    "loaded_model = pickle.load(open('prostate_cancer_model.sav', 'rb'))"
   ]
  },
  {
   "cell_type": "code",
   "execution_count": 24,
   "id": "9cf0005d-fdc3-4fdb-847c-4019af81ee3a",
   "metadata": {},
   "outputs": [
    {
     "name": "stdout",
     "output_type": "stream",
     "text": [
      "radius\n",
      "texture\n",
      "perimeter\n",
      "area\n",
      "smoothness\n",
      "compactness\n",
      "symmetry\n",
      "fractal_dimension\n"
     ]
    }
   ],
   "source": [
    "#printing the names of the columns\n",
    "for column in X_ProstateCancer.columns:\n",
    "  print(column)"
   ]
  }
 ],
 "metadata": {
  "kernelspec": {
   "display_name": "Python 3 (ipykernel)",
   "language": "python",
   "name": "python3"
  },
  "language_info": {
   "codemirror_mode": {
    "name": "ipython",
    "version": 3
   },
   "file_extension": ".py",
   "mimetype": "text/x-python",
   "name": "python",
   "nbconvert_exporter": "python",
   "pygments_lexer": "ipython3",
   "version": "3.11.7"
  }
 },
 "nbformat": 4,
 "nbformat_minor": 5
}
