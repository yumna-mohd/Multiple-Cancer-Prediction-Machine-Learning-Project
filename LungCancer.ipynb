{
 "cells": [
  {
   "cell_type": "markdown",
   "id": "f79b362e-38dc-4095-be07-e853e7bf620e",
   "metadata": {},
   "source": [
    "**Importing Libraries**"
   ]
  },
  {
   "cell_type": "code",
   "execution_count": 3,
   "id": "7096bd61-6ec8-42cb-8a42-3c7988d92652",
   "metadata": {},
   "outputs": [],
   "source": [
    "#Importing the Libraries\n",
    "#for data manipulation, analysis, and handling. \n",
    "import numpy as np\n",
    "import pandas as pd\n",
    "\n",
    "#for machine learning and model evaluation\n",
    "import sklearn\n",
    "from sklearn.model_selection import train_test_split\n",
    "from sklearn import svm\n",
    "from sklearn.metrics import accuracy_score, precision_score, recall_score, f1_score, confusion_matrix\n",
    "\n",
    "\n",
    "#for data visualization\n",
    "import matplotlib as plt\n",
    "import seaborn as sns"
   ]
  },
  {
   "cell_type": "markdown",
   "id": "04f78795-acdc-43ab-92f4-7e5007024884",
   "metadata": {},
   "source": [
    "**Data Collection and Analysis**"
   ]
  },
  {
   "cell_type": "code",
   "execution_count": 4,
   "id": "3cba0d83-5708-4185-bcee-7d85410d946f",
   "metadata": {},
   "outputs": [],
   "source": [
    "# Loading the data\n",
    "lung_cancer_data = pd.read_excel('lung_cancer.xlsx') \n"
   ]
  },
  {
   "cell_type": "code",
   "execution_count": 5,
   "id": "78ea64dd-c207-4995-9ffb-9a2739ffc92f",
   "metadata": {},
   "outputs": [
    {
     "name": "stdout",
     "output_type": "stream",
     "text": [
      "  GENDER  AGE  SMOKING  YELLOW_FINGERS  ANXIETY  PEER_PRESSURE  \\\n",
      "0      M   69        1               2        2              1   \n",
      "1      M   74        2               1        1              1   \n",
      "2      F   59        1               1        1              2   \n",
      "3      M   63        2               2        2              1   \n",
      "4      F   63        1               2        1              1   \n",
      "\n",
      "   CHRONIC_DISEASE  FATIGUE  ALLERGY  WHEEZING  ALCOHOL_CONSUMING  COUGHING  \\\n",
      "0                1        2        1         2                  2         2   \n",
      "1                2        2        2         1                  1         1   \n",
      "2                1        2        1         2                  1         2   \n",
      "3                1        1        1         1                  2         1   \n",
      "4                1        1        1         2                  1         2   \n",
      "\n",
      "   SHORTNESS_OF_BREATH  SWALLOWING_DIFFICULTY  CHEST_PAIN LUNG_CANCER  \n",
      "0                    2                      2           2         YES  \n",
      "1                    2                      2           2         YES  \n",
      "2                    2                      1           2          NO  \n",
      "3                    1                      2           2          NO  \n",
      "4                    2                      1           1          NO  \n"
     ]
    }
   ],
   "source": [
    "# Displaying the first 5 rows of the dataset\n",
    "print(lung_cancer_data.head())"
   ]
  },
  {
   "cell_type": "code",
   "execution_count": 6,
   "id": "3f301239-b7b3-42a6-a20e-695dbeb3c2de",
   "metadata": {},
   "outputs": [
    {
     "name": "stdout",
     "output_type": "stream",
     "text": [
      "<class 'pandas.core.frame.DataFrame'>\n",
      "RangeIndex: 309 entries, 0 to 308\n",
      "Data columns (total 16 columns):\n",
      " #   Column                 Non-Null Count  Dtype \n",
      "---  ------                 --------------  ----- \n",
      " 0   GENDER                 309 non-null    object\n",
      " 1   AGE                    309 non-null    int64 \n",
      " 2   SMOKING                309 non-null    int64 \n",
      " 3   YELLOW_FINGERS         309 non-null    int64 \n",
      " 4   ANXIETY                309 non-null    int64 \n",
      " 5   PEER_PRESSURE          309 non-null    int64 \n",
      " 6   CHRONIC_DISEASE        309 non-null    int64 \n",
      " 7   FATIGUE                309 non-null    int64 \n",
      " 8   ALLERGY                309 non-null    int64 \n",
      " 9   WHEEZING               309 non-null    int64 \n",
      " 10  ALCOHOL_CONSUMING      309 non-null    int64 \n",
      " 11  COUGHING               309 non-null    int64 \n",
      " 12  SHORTNESS_OF_BREATH    309 non-null    int64 \n",
      " 13  SWALLOWING_DIFFICULTY  309 non-null    int64 \n",
      " 14  CHEST_PAIN             309 non-null    int64 \n",
      " 15  LUNG_CANCER            309 non-null    object\n",
      "dtypes: int64(14), object(2)\n",
      "memory usage: 38.8+ KB\n",
      "None\n"
     ]
    }
   ],
   "source": [
    "# Displaying information about the dataset\n",
    "print(lung_cancer_data.info())"
   ]
  },
  {
   "cell_type": "code",
   "execution_count": 7,
   "id": "1d32577c-0ab2-4d27-8d5f-1789ebc4de03",
   "metadata": {},
   "outputs": [
    {
     "name": "stdout",
     "output_type": "stream",
     "text": [
      "GENDER                   0\n",
      "AGE                      0\n",
      "SMOKING                  0\n",
      "YELLOW_FINGERS           0\n",
      "ANXIETY                  0\n",
      "PEER_PRESSURE            0\n",
      "CHRONIC_DISEASE          0\n",
      "FATIGUE                  0\n",
      "ALLERGY                  0\n",
      "WHEEZING                 0\n",
      "ALCOHOL_CONSUMING        0\n",
      "COUGHING                 0\n",
      "SHORTNESS_OF_BREATH      0\n",
      "SWALLOWING_DIFFICULTY    0\n",
      "CHEST_PAIN               0\n",
      "LUNG_CANCER              0\n",
      "dtype: int64\n"
     ]
    }
   ],
   "source": [
    "# Displaying the number of missing values in each column\n",
    "print(lung_cancer_data.isnull().sum())"
   ]
  },
  {
   "cell_type": "code",
   "execution_count": 8,
   "id": "50eaec59-b8d7-4899-bb67-f4b391ebc337",
   "metadata": {},
   "outputs": [
    {
     "name": "stdout",
     "output_type": "stream",
     "text": [
      "              AGE     SMOKING  YELLOW_FINGERS     ANXIETY  PEER_PRESSURE  \\\n",
      "count  309.000000  309.000000      309.000000  309.000000     309.000000   \n",
      "mean    62.673139    1.563107        1.569579    1.498382       1.501618   \n",
      "std      8.210301    0.496806        0.495938    0.500808       0.500808   \n",
      "min     21.000000    1.000000        1.000000    1.000000       1.000000   \n",
      "25%     57.000000    1.000000        1.000000    1.000000       1.000000   \n",
      "50%     62.000000    2.000000        2.000000    1.000000       2.000000   \n",
      "75%     69.000000    2.000000        2.000000    2.000000       2.000000   \n",
      "max     87.000000    2.000000        2.000000    2.000000       2.000000   \n",
      "\n",
      "       CHRONIC_DISEASE     FATIGUE     ALLERGY    WHEEZING  ALCOHOL_CONSUMING  \\\n",
      "count       309.000000  309.000000  309.000000  309.000000         309.000000   \n",
      "mean          1.504854    1.673139    1.556634    1.556634           1.556634   \n",
      "std           0.500787    0.469827    0.497588    0.497588           0.497588   \n",
      "min           1.000000    1.000000    1.000000    1.000000           1.000000   \n",
      "25%           1.000000    1.000000    1.000000    1.000000           1.000000   \n",
      "50%           2.000000    2.000000    2.000000    2.000000           2.000000   \n",
      "75%           2.000000    2.000000    2.000000    2.000000           2.000000   \n",
      "max           2.000000    2.000000    2.000000    2.000000           2.000000   \n",
      "\n",
      "         COUGHING  SHORTNESS_OF_BREATH  SWALLOWING_DIFFICULTY  CHEST_PAIN  \n",
      "count  309.000000           309.000000             309.000000  309.000000  \n",
      "mean     1.579288             1.640777               1.469256    1.556634  \n",
      "std      0.494474             0.480551               0.499863    0.497588  \n",
      "min      1.000000             1.000000               1.000000    1.000000  \n",
      "25%      1.000000             1.000000               1.000000    1.000000  \n",
      "50%      2.000000             2.000000               1.000000    2.000000  \n",
      "75%      2.000000             2.000000               2.000000    2.000000  \n",
      "max      2.000000             2.000000               2.000000    2.000000  \n"
     ]
    }
   ],
   "source": [
    "# Displaying some statistical measures about the data\n",
    "print(lung_cancer_data.describe())"
   ]
  },
  {
   "cell_type": "code",
   "execution_count": 9,
   "id": "57de6956-44d4-4b56-9bf7-ffd26a0a6f3d",
   "metadata": {},
   "outputs": [
    {
     "name": "stdout",
     "output_type": "stream",
     "text": [
      "LUNG_CANCER\n",
      "YES    270\n",
      "NO      39\n",
      "Name: count, dtype: int64\n"
     ]
    }
   ],
   "source": [
    "# Displaying the distribution of the target variable\n",
    "print(lung_cancer_data['LUNG_CANCER'].value_counts())"
   ]
  },
  {
   "cell_type": "code",
   "execution_count": 10,
   "id": "f17f269b-11dd-4516-b058-0f848dcab16c",
   "metadata": {},
   "outputs": [],
   "source": [
    "# Data Pre-Processing\n",
    "# Separating the features & Target\n",
    "X = lung_cancer_data.drop(columns=['GENDER', 'LUNG_CANCER'], axis=1)\n",
    "Y = lung_cancer_data['LUNG_CANCER']\n"
   ]
  },
  {
   "cell_type": "code",
   "execution_count": 11,
   "id": "aff9c443-a96d-406a-93cd-8fa9326ea9ee",
   "metadata": {},
   "outputs": [
    {
     "name": "stdout",
     "output_type": "stream",
     "text": [
      "     AGE  SMOKING  YELLOW_FINGERS  ANXIETY  PEER_PRESSURE  CHRONIC_DISEASE  \\\n",
      "0     69        1               2        2              1                1   \n",
      "1     74        2               1        1              1                2   \n",
      "2     59        1               1        1              2                1   \n",
      "3     63        2               2        2              1                1   \n",
      "4     63        1               2        1              1                1   \n",
      "..   ...      ...             ...      ...            ...              ...   \n",
      "304   56        1               1        1              2                2   \n",
      "305   70        2               1        1              1                1   \n",
      "306   58        2               1        1              1                1   \n",
      "307   67        2               1        2              1                1   \n",
      "308   62        1               1        1              2                1   \n",
      "\n",
      "     FATIGUE  ALLERGY  WHEEZING  ALCOHOL_CONSUMING  COUGHING  \\\n",
      "0          2        1         2                  2         2   \n",
      "1          2        2         1                  1         1   \n",
      "2          2        1         2                  1         2   \n",
      "3          1        1         1                  2         1   \n",
      "4          1        1         2                  1         2   \n",
      "..       ...      ...       ...                ...       ...   \n",
      "304        2        1         1                  2         2   \n",
      "305        2        2         2                  2         2   \n",
      "306        1        2         2                  2         2   \n",
      "307        2        2         1                  2         2   \n",
      "308        2        2         2                  2         1   \n",
      "\n",
      "     SHORTNESS_OF_BREATH  SWALLOWING_DIFFICULTY  CHEST_PAIN  \n",
      "0                      2                      2           2  \n",
      "1                      2                      2           2  \n",
      "2                      2                      1           2  \n",
      "3                      1                      2           2  \n",
      "4                      2                      1           1  \n",
      "..                   ...                    ...         ...  \n",
      "304                    2                      2           1  \n",
      "305                    2                      1           2  \n",
      "306                    1                      1           2  \n",
      "307                    2                      1           2  \n",
      "308                    1                      2           1  \n",
      "\n",
      "[309 rows x 14 columns]\n"
     ]
    }
   ],
   "source": [
    "# Displaying the features\n",
    "print(X)"
   ]
  },
  {
   "cell_type": "code",
   "execution_count": 12,
   "id": "2b8345ce-869e-4c9f-9854-e40254a02105",
   "metadata": {},
   "outputs": [
    {
     "name": "stdout",
     "output_type": "stream",
     "text": [
      "0      YES\n",
      "1      YES\n",
      "2       NO\n",
      "3       NO\n",
      "4       NO\n",
      "      ... \n",
      "304    YES\n",
      "305    YES\n",
      "306    YES\n",
      "307    YES\n",
      "308    YES\n",
      "Name: LUNG_CANCER, Length: 309, dtype: object\n"
     ]
    }
   ],
   "source": [
    "# Displaying the target variable\n",
    "print(Y)"
   ]
  },
  {
   "cell_type": "markdown",
   "id": "991f91a7-6caa-4a81-8d6b-2665bbbc119e",
   "metadata": {
    "tags": []
   },
   "source": [
    "**Data Splitting**"
   ]
  },
  {
   "cell_type": "code",
   "execution_count": 13,
   "id": "09c508e2-3f62-4054-879a-50f6a1af25bc",
   "metadata": {},
   "outputs": [],
   "source": [
    "# Splitting the data into training and test sets\n",
    "X_train, X_test, Y_train, Y_test = train_test_split(X, Y, test_size=0.2, random_state=2)"
   ]
  },
  {
   "cell_type": "markdown",
   "id": "6d2508f4-3d97-4445-9919-2184a12060cc",
   "metadata": {
    "tags": []
   },
   "source": [
    "**Model Training**"
   ]
  },
  {
   "cell_type": "code",
   "execution_count": 14,
   "id": "a1d25a40-886a-4f36-91bf-1e905d400896",
   "metadata": {},
   "outputs": [],
   "source": [
    "# Model Training\n",
    "# Support Vector Machine Model\n",
    "lung_cancer_model = svm.SVC(kernel='linear')"
   ]
  },
  {
   "cell_type": "code",
   "execution_count": 15,
   "id": "c08797f3-3129-4000-8194-0874d9fef1a4",
   "metadata": {},
   "outputs": [
    {
     "data": {
      "text/html": [
       "<style>#sk-container-id-1 {color: black;}#sk-container-id-1 pre{padding: 0;}#sk-container-id-1 div.sk-toggleable {background-color: white;}#sk-container-id-1 label.sk-toggleable__label {cursor: pointer;display: block;width: 100%;margin-bottom: 0;padding: 0.3em;box-sizing: border-box;text-align: center;}#sk-container-id-1 label.sk-toggleable__label-arrow:before {content: \"▸\";float: left;margin-right: 0.25em;color: #696969;}#sk-container-id-1 label.sk-toggleable__label-arrow:hover:before {color: black;}#sk-container-id-1 div.sk-estimator:hover label.sk-toggleable__label-arrow:before {color: black;}#sk-container-id-1 div.sk-toggleable__content {max-height: 0;max-width: 0;overflow: hidden;text-align: left;background-color: #f0f8ff;}#sk-container-id-1 div.sk-toggleable__content pre {margin: 0.2em;color: black;border-radius: 0.25em;background-color: #f0f8ff;}#sk-container-id-1 input.sk-toggleable__control:checked~div.sk-toggleable__content {max-height: 200px;max-width: 100%;overflow: auto;}#sk-container-id-1 input.sk-toggleable__control:checked~label.sk-toggleable__label-arrow:before {content: \"▾\";}#sk-container-id-1 div.sk-estimator input.sk-toggleable__control:checked~label.sk-toggleable__label {background-color: #d4ebff;}#sk-container-id-1 div.sk-label input.sk-toggleable__control:checked~label.sk-toggleable__label {background-color: #d4ebff;}#sk-container-id-1 input.sk-hidden--visually {border: 0;clip: rect(1px 1px 1px 1px);clip: rect(1px, 1px, 1px, 1px);height: 1px;margin: -1px;overflow: hidden;padding: 0;position: absolute;width: 1px;}#sk-container-id-1 div.sk-estimator {font-family: monospace;background-color: #f0f8ff;border: 1px dotted black;border-radius: 0.25em;box-sizing: border-box;margin-bottom: 0.5em;}#sk-container-id-1 div.sk-estimator:hover {background-color: #d4ebff;}#sk-container-id-1 div.sk-parallel-item::after {content: \"\";width: 100%;border-bottom: 1px solid gray;flex-grow: 1;}#sk-container-id-1 div.sk-label:hover label.sk-toggleable__label {background-color: #d4ebff;}#sk-container-id-1 div.sk-serial::before {content: \"\";position: absolute;border-left: 1px solid gray;box-sizing: border-box;top: 0;bottom: 0;left: 50%;z-index: 0;}#sk-container-id-1 div.sk-serial {display: flex;flex-direction: column;align-items: center;background-color: white;padding-right: 0.2em;padding-left: 0.2em;position: relative;}#sk-container-id-1 div.sk-item {position: relative;z-index: 1;}#sk-container-id-1 div.sk-parallel {display: flex;align-items: stretch;justify-content: center;background-color: white;position: relative;}#sk-container-id-1 div.sk-item::before, #sk-container-id-1 div.sk-parallel-item::before {content: \"\";position: absolute;border-left: 1px solid gray;box-sizing: border-box;top: 0;bottom: 0;left: 50%;z-index: -1;}#sk-container-id-1 div.sk-parallel-item {display: flex;flex-direction: column;z-index: 1;position: relative;background-color: white;}#sk-container-id-1 div.sk-parallel-item:first-child::after {align-self: flex-end;width: 50%;}#sk-container-id-1 div.sk-parallel-item:last-child::after {align-self: flex-start;width: 50%;}#sk-container-id-1 div.sk-parallel-item:only-child::after {width: 0;}#sk-container-id-1 div.sk-dashed-wrapped {border: 1px dashed gray;margin: 0 0.4em 0.5em 0.4em;box-sizing: border-box;padding-bottom: 0.4em;background-color: white;}#sk-container-id-1 div.sk-label label {font-family: monospace;font-weight: bold;display: inline-block;line-height: 1.2em;}#sk-container-id-1 div.sk-label-container {text-align: center;}#sk-container-id-1 div.sk-container {/* jupyter's `normalize.less` sets `[hidden] { display: none; }` but bootstrap.min.css set `[hidden] { display: none !important; }` so we also need the `!important` here to be able to override the default hidden behavior on the sphinx rendered scikit-learn.org. See: https://github.com/scikit-learn/scikit-learn/issues/21755 */display: inline-block !important;position: relative;}#sk-container-id-1 div.sk-text-repr-fallback {display: none;}</style><div id=\"sk-container-id-1\" class=\"sk-top-container\"><div class=\"sk-text-repr-fallback\"><pre>SVC(kernel=&#x27;linear&#x27;)</pre><b>In a Jupyter environment, please rerun this cell to show the HTML representation or trust the notebook. <br />On GitHub, the HTML representation is unable to render, please try loading this page with nbviewer.org.</b></div><div class=\"sk-container\" hidden><div class=\"sk-item\"><div class=\"sk-estimator sk-toggleable\"><input class=\"sk-toggleable__control sk-hidden--visually\" id=\"sk-estimator-id-1\" type=\"checkbox\" checked><label for=\"sk-estimator-id-1\" class=\"sk-toggleable__label sk-toggleable__label-arrow\">SVC</label><div class=\"sk-toggleable__content\"><pre>SVC(kernel=&#x27;linear&#x27;)</pre></div></div></div></div></div>"
      ],
      "text/plain": [
       "SVC(kernel='linear')"
      ]
     },
     "execution_count": 15,
     "metadata": {},
     "output_type": "execute_result"
    }
   ],
   "source": [
    "# Training the SVM model with training data\n",
    "lung_cancer_model.fit(X_train, Y_train)"
   ]
  },
  {
   "cell_type": "markdown",
   "id": "b7e94959-16bf-4723-aa04-df82c2b80d2c",
   "metadata": {},
   "source": [
    "**Model Evaluation**"
   ]
  },
  {
   "cell_type": "code",
   "execution_count": 16,
   "id": "5338f6e5-b912-45cd-8d69-0df28acd29fc",
   "metadata": {},
   "outputs": [
    {
     "name": "stdout",
     "output_type": "stream",
     "text": [
      "Accuracy score on training data: 0.951417004048583\n"
     ]
    }
   ],
   "source": [
    "# Model Evaluation\n",
    "# Accuracy Score on training data\n",
    "X_train_prediction = lung_cancer_model.predict(X_train)\n",
    "training_data_accuracy = accuracy_score(Y_train, X_train_prediction)\n",
    "print('Accuracy score on training data:', training_data_accuracy)"
   ]
  },
  {
   "cell_type": "code",
   "execution_count": 17,
   "id": "1d3edff0-608e-4c15-b06f-29f888807abb",
   "metadata": {},
   "outputs": [
    {
     "name": "stdout",
     "output_type": "stream",
     "text": [
      "Accuracy score on test data: 0.8870967741935484\n"
     ]
    }
   ],
   "source": [
    "\n",
    "# Accuracy Score on test data\n",
    "X_test_prediction = lung_cancer_model.predict(X_test)\n",
    "test_data_accuracy = accuracy_score(Y_test, X_test_prediction)\n",
    "print('Accuracy score on test data:', test_data_accuracy)\n"
   ]
  },
  {
   "cell_type": "code",
   "execution_count": 18,
   "id": "d0ce5440-484e-4f04-9d36-238badf60ad0",
   "metadata": {
    "tags": []
   },
   "outputs": [
    {
     "name": "stdout",
     "output_type": "stream",
     "text": [
      "Precision on test data: 0.896551724137931\n",
      "Recall on test data: 0.9811320754716981\n",
      "F1 score on test data: 0.9369369369369369\n",
      "Confusion Matrix on test data:\n",
      " [[ 3  6]\n",
      " [ 1 52]]\n"
     ]
    }
   ],
   "source": [
    "# Precision on test data\n",
    "precision = precision_score(Y_test, X_test_prediction, pos_label='YES')\n",
    "print('Precision on test data:', precision)\n",
    "\n",
    "# Recall on test data\n",
    "recall = recall_score(Y_test, X_test_prediction, pos_label='YES')\n",
    "print('Recall on test data:', recall)\n",
    "\n",
    "# F1-score on test data\n",
    "f1 = f1_score(Y_test, X_test_prediction, pos_label='YES')\n",
    "print('F1 score on test data:', f1)\n",
    "\n",
    "# Confusion Matrix on test data\n",
    "conf_matrix = confusion_matrix(Y_test, X_test_prediction)\n",
    "print('Confusion Matrix on test data:\\n', conf_matrix)\n"
   ]
  },
  {
   "cell_type": "markdown",
   "id": "951253cf-4d9c-4e13-833b-bbc0201e8eed",
   "metadata": {},
   "source": [
    "**Building a Predictive system**"
   ]
  },
  {
   "cell_type": "code",
   "execution_count": 19,
   "id": "976a9f51-04c9-4224-bb37-fbf4dae4b170",
   "metadata": {},
   "outputs": [
    {
     "name": "stdout",
     "output_type": "stream",
     "text": [
      "['YES']\n",
      "The person has lung cancer.\n"
     ]
    },
    {
     "name": "stderr",
     "output_type": "stream",
     "text": [
      "C:\\Users\\taiga\\anaconda3\\envs\\MachineLearning\\Lib\\site-packages\\sklearn\\base.py:465: UserWarning: X does not have valid feature names, but SVC was fitted with feature names\n",
      "  warnings.warn(\n"
     ]
    }
   ],
   "source": [
    "# Building a Predictive System\n",
    "# Providing input data for prediction\n",
    "input_data = (48,1,2,2,2,2,2,2,2,1,2,2,2,1)\n",
    "\n",
    "# Converting input data to a numpy array\n",
    "input_data_as_numpy_array = np.asarray(input_data)\n",
    "\n",
    "# Reshaping the numpy array\n",
    "input_data_reshaped = input_data_as_numpy_array.reshape(1, -1)\n",
    "\n",
    "# Making predictions\n",
    "prediction = lung_cancer_model.predict(input_data_reshaped)\n",
    "print(prediction)\n",
    "\n",
    "# Displaying the result\n",
    "if prediction[0] == 'NO':\n",
    "    print(\"The person does not have lung cancer.\")\n",
    "else:\n",
    "    print(\"The person has lung cancer.\")"
   ]
  },
  {
   "cell_type": "markdown",
   "id": "48bd0b86-bc40-4e80-b71f-fb32c60b0241",
   "metadata": {},
   "source": [
    "**Saving the model**"
   ]
  },
  {
   "cell_type": "code",
   "execution_count": 20,
   "id": "399a576b-d2d6-4754-9517-f01e0714908b",
   "metadata": {},
   "outputs": [],
   "source": [
    "import pickle\n",
    "filename = 'lung_cancer_model.sav'\n",
    "pickle.dump(lung_cancer_model, open(filename, 'wb'))\n",
    "\n",
    "# loading the saved model\n",
    "loaded_model = pickle.load(open('lung_cancer_model.sav', 'rb'))"
   ]
  },
  {
   "cell_type": "code",
   "execution_count": 21,
   "id": "142bc23d-9592-4f2a-81b0-6553abdc6189",
   "metadata": {},
   "outputs": [
    {
     "name": "stdout",
     "output_type": "stream",
     "text": [
      "AGE\n",
      "SMOKING\n",
      "YELLOW_FINGERS\n",
      "ANXIETY\n",
      "PEER_PRESSURE\n",
      "CHRONIC_DISEASE\n",
      "FATIGUE\n",
      "ALLERGY\n",
      "WHEEZING\n",
      "ALCOHOL_CONSUMING\n",
      "COUGHING\n",
      "SHORTNESS_OF_BREATH\n",
      "SWALLOWING_DIFFICULTY\n",
      "CHEST_PAIN\n"
     ]
    }
   ],
   "source": [
    "#printing the names of the columns\n",
    "for column in X.columns:\n",
    "  print(column)"
   ]
  }
 ],
 "metadata": {
  "kernelspec": {
   "display_name": "Python 3 (ipykernel)",
   "language": "python",
   "name": "python3"
  },
  "language_info": {
   "codemirror_mode": {
    "name": "ipython",
    "version": 3
   },
   "file_extension": ".py",
   "mimetype": "text/x-python",
   "name": "python",
   "nbconvert_exporter": "python",
   "pygments_lexer": "ipython3",
   "version": "3.11.7"
  }
 },
 "nbformat": 4,
 "nbformat_minor": 5
}
